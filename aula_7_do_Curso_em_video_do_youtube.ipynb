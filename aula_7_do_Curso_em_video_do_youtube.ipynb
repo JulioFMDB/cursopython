{
  "nbformat": 4,
  "nbformat_minor": 0,
  "metadata": {
    "colab": {
      "name": "aula 7 do Curso em video do youtube.ipynb",
      "provenance": [],
      "authorship_tag": "ABX9TyPKk6Vf2zZWYINN7+WXqa3+",
      "include_colab_link": true
    },
    "kernelspec": {
      "name": "python3",
      "display_name": "Python 3"
    },
    "language_info": {
      "name": "python"
    }
  },
  "cells": [
    {
      "cell_type": "markdown",
      "metadata": {
        "id": "view-in-github",
        "colab_type": "text"
      },
      "source": [
        "<a href=\"https://colab.research.google.com/github/JulioFMDB/cursopython/blob/main/aula_7_do_Curso_em_video_do_youtube.ipynb\" target=\"_parent\"><img src=\"https://colab.research.google.com/assets/colab-badge.svg\" alt=\"Open In Colab\"/></a>"
      ]
    },
    {
      "cell_type": "code",
      "source": [
        "#Operadores aritimeticos\n",
        "n1 = int (input(' Digite um numero: '))\n",
        "n2 = int(input(' Digite outro numero: '))\n",
        "s = n1 + n2\n",
        "sub = n1 - n2\n",
        "m = n1 * n2\n",
        "d = n1 / n2\n",
        "p = n1 ** n2\n",
        "di = n1 // n2\n",
        "rd = n1 % n2\n",
        "print ('Os numeros digitados foram: {} e {}'.format(n1,n2))\n",
        "print ('A soma é {}'.format(s))\n",
        "print ('A subtração é {}'.format(sub))\n",
        "print ('A multiplicação é {}'.format(m))\n",
        "print ('A divisão é {}'.format(d))\n",
        "print ('A potência de {} elevado a {} é {}'.format(n1,n2,p))\n",
        "print ('A divisão inteira é {}'.format(di))\n",
        "print ('O resto da divisão é {}'.format(rd))"
      ],
      "metadata": {
        "colab": {
          "base_uri": "https://localhost:8080/"
        },
        "id": "TbrBkcxG8Y9k",
        "outputId": "bd7eb11b-3e70-47bb-98e6-4268bb1da5e8"
      },
      "execution_count": 15,
      "outputs": [
        {
          "output_type": "stream",
          "name": "stdout",
          "text": [
            " Digite um numero: 5\n",
            " Digite outro numero: 2\n",
            "Os numeros digitados foram: 5 e 2\n",
            "A soma é 7\n",
            "A subtração é 3\n",
            "A multiplicação é 10\n",
            "A divisão é 2.5\n",
            "A potência de 5 elevado a 2 é 25\n",
            "A divisão inteira é 2\n",
            "O resto da divisão é 1\n"
          ]
        }
      ]
    },
    {
      "cell_type": "code",
      "execution_count": null,
      "metadata": {
        "id": "H618uyV18OM6"
      },
      "outputs": [],
      "source": [
        " "
      ]
    }
  ]
}