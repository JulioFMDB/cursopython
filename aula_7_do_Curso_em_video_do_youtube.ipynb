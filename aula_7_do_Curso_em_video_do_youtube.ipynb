{
  "nbformat": 4,
  "nbformat_minor": 0,
  "metadata": {
    "colab": {
      "name": "aula 7 do Curso em video do youtube.ipynb",
      "provenance": [],
      "collapsed_sections": [],
      "authorship_tag": "ABX9TyNfKgVI60J5lVvAleSiMbB6",
      "include_colab_link": true
    },
    "kernelspec": {
      "name": "python3",
      "display_name": "Python 3"
    },
    "language_info": {
      "name": "python"
    }
  },
  "cells": [
    {
      "cell_type": "markdown",
      "metadata": {
        "id": "view-in-github",
        "colab_type": "text"
      },
      "source": [
        "<a href=\"https://colab.research.google.com/github/JulioFMDB/cursopython/blob/main/aula_7_do_Curso_em_video_do_youtube.ipynb\" target=\"_parent\"><img src=\"https://colab.research.google.com/assets/colab-badge.svg\" alt=\"Open In Colab\"/></a>"
      ]
    },
    {
      "cell_type": "code",
      "source": [
        "#Operadores aritimeticos\n",
        "n1 = int (input(' Digite um numero: '))\n",
        "n2 = int(input(' Digite outro numero: '))\n",
        "s = n1 + n2\n",
        "sub = n1 - n2\n",
        "m = n1 * n2\n",
        "d = n1 / n2\n",
        "p = n1 ** n2\n",
        "di = n1 // n2\n",
        "rd = n1 % n2\n",
        "print ('Os numeros digitados foram: {} e {}'.format(n1,n2))\n",
        "print ('A soma é {}'.format(s))\n",
        "print ('A subtração é {}'.format(sub))\n",
        "print ('A multiplicação é {}'.format(m))\n",
        "print ('A divisão é {}'.format(d))\n",
        "print ('A potência de {} elevado a {} é {}'.format(n1,n2,p))\n",
        "print ('A divisão inteira é {}'.format(di))\n",
        "print ('O resto da divisão é {}'.format(rd))"
      ],
      "metadata": {
        "colab": {
          "base_uri": "https://localhost:8080/"
        },
        "id": "TbrBkcxG8Y9k",
        "outputId": "bd7eb11b-3e70-47bb-98e6-4268bb1da5e8"
      },
      "execution_count": 15,
      "outputs": [
        {
          "output_type": "stream",
          "name": "stdout",
          "text": [
            " Digite um numero: 5\n",
            " Digite outro numero: 2\n",
            "Os numeros digitados foram: 5 e 2\n",
            "A soma é 7\n",
            "A subtração é 3\n",
            "A multiplicação é 10\n",
            "A divisão é 2.5\n",
            "A potência de 5 elevado a 2 é 25\n",
            "A divisão inteira é 2\n",
            "O resto da divisão é 1\n"
          ]
        }
      ]
    },
    {
      "cell_type": "code",
      "execution_count": 22,
      "metadata": {
        "id": "H618uyV18OM6",
        "colab": {
          "base_uri": "https://localhost:8080/"
        },
        "outputId": "7a92f6ba-77bf-4612-a58e-4ea25b57c572"
      },
      "outputs": [
        {
          "output_type": "stream",
          "name": "stdout",
          "text": [
            "Digite o numero que você quer saber Antecessor e Sucessor 5\n",
            "O numero que você escolheu é 5.\n",
            "Seu sucessor é 6 e seu Antecessor é 4 \n"
          ]
        }
      ],
      "source": [
        " # Faça um programa que leia um numero inteiro o mostre na tela o seu\n",
        " # sucessor e seu antecessor.\n",
        "\n",
        " n1 = int (input ('Digite o numero que você quer saber Antecessor e Sucessor '))\n",
        " n2 = int (n1 + 1)\n",
        " n3 = int (n1 - 1)\n",
        " print ('O numero que você escolheu é {}.'.format(n1))\n",
        " print ('Seu sucessor é {} e seu Antecessor é {} '.format (n2,n3))"
      ]
    },
    {
      "cell_type": "code",
      "source": [
        "# Crie um algoritimo que leia um numero e mostre seu \n",
        "# dobro, triplo e raiz quadrada\n",
        "print ('Calculadora pra saber o dobro, triplo e raiz quadrada de um número')\n",
        "n1 = int(input ('Digite o número que voce quer saber '))\n",
        "n2 = int (n1 * 2 )\n",
        "n3 = int (n1 * 3)\n",
        "n4 = float (n1 ** (1/2) )\n",
        "\n",
        "print ('O dobro de {} é : {} '.format(n1,n2))\n",
        "print ('O triplo de {} é : {}'.format(n1,n3))\n",
        "print ('A raiz quadrada de {} é : {}'.format(n1,n4))"
      ],
      "metadata": {
        "colab": {
          "base_uri": "https://localhost:8080/"
        },
        "id": "2DgreSoNKyTx",
        "outputId": "bc698234-3f88-482c-a713-cecb15ca9c76"
      },
      "execution_count": 43,
      "outputs": [
        {
          "output_type": "stream",
          "name": "stdout",
          "text": [
            "Calculadora pra saber o dobro, triplo e raiz quadrada de um número\n",
            "Digite o número que voce quer saber 125\n",
            "O dobro de 125 é : 250 \n",
            "O triplo de 125 é : 375\n",
            "A raiz quadrada de 125 é : 11.180339887498949\n"
          ]
        }
      ]
    },
    {
      "cell_type": "code",
      "source": [
        "#Faça um programa que leia duas nota e calcule a média de um aluno\n",
        "print ('Calculadora de média de 2 notas: ')\n",
        "n1 = int(input('Digite aqui a primeira nota: '))\n",
        "n2 = int(input('Digite aqui a segunda nota: '))\n",
        "n3 = int((n1 + n2)/2)\n",
        "print ('Suas notas {} e {} levam a média final: {} '.format(n1,n2,n3))"
      ],
      "metadata": {
        "colab": {
          "base_uri": "https://localhost:8080/"
        },
        "id": "38BdLZ6JP0aa",
        "outputId": "b9a0a588-2e75-4cf7-b0d0-af94fba3772a"
      },
      "execution_count": 56,
      "outputs": [
        {
          "output_type": "stream",
          "name": "stdout",
          "text": [
            "Calculadora de média de 2 notas: \n",
            "Digite aqui a primeira nota: 5\n",
            "Digite aqui a segunda nota: 5\n",
            "Suas notas 5 e 5 levam a média final: 5 \n"
          ]
        }
      ]
    },
    {
      "cell_type": "code",
      "source": [
        "#Escreva um programa que leia um valor em metros e o exiba convertido em cm e mm\n",
        "print ('Programa conversor de Metros em Centimetros e Milimetro: ')\n",
        "m = float(input('Digite o valor em metros: '))\n",
        "cm = float (m*100)\n",
        "mm = float(cm*10)\n",
        "\n",
        "print (\"A metragem que você escolheu foi: {}\".format(m))\n",
        "print (\"{} Metros equivalem a {}cm e {}mm \".format(m,cm,mm))"
      ],
      "metadata": {
        "colab": {
          "base_uri": "https://localhost:8080/"
        },
        "id": "ioDQf0DRUpw6",
        "outputId": "3c03b3d5-afa6-4319-c384-2b1a14d1cfd4"
      },
      "execution_count": 62,
      "outputs": [
        {
          "output_type": "stream",
          "name": "stdout",
          "text": [
            "Programa conversor de Metros em Centimetros e Milimetro: \n",
            "Digite o valor em metros: 5\n",
            "A metragem que você escolheu foi: 5.0\n",
            "5.0 Metros equivalem a 500.0cm e 5000.0mm \n"
          ]
        }
      ]
    },
    {
      "cell_type": "code",
      "source": [
        "# Faça um programa que leia um numero inteiro qualquer e mostre na tela sua tabuada.\n",
        "print ('Programa de TABUADA do papai. ')\n",
        "\n",
        "n = int(input('Digite o número que você quer saber a tabuada: '))\n",
        "n1 = int (n*1)\n",
        "n2 = int(n*2)\n",
        "n3 = int(n*3)\n",
        "n4 = int(n*4)\n",
        "n5 = int(n*5)\n",
        "n6 = int(n*6)\n",
        "n7 = int(n*7)\n",
        "n8 = int(n*8)\n",
        "n9 = int(n*9)\n",
        "n10 = int(n*10)\n",
        "print ('{} x 1 = {}'.format(n,n1))\n",
        "print ('{} x 2 = {}'.format(n,n2))\n",
        "print ('{} x 3 = {}'.format(n,n3))\n",
        "print ('{} x 4 = {}'.format(n,n4))\n",
        "print ('{} x 5 = {}'.format(n,n5))\n",
        "print ('{} x 6 = {}'.format(n,n6))\n",
        "print ('{} x 7 = {}'.format(n,n7))\n",
        "print ('{} x 8 = {}'.format(n,n8))\n",
        "print ('{} x 9 = {}'.format(n,n9))\n",
        "print ('{} x 10 = {}'.format(n,n10))\n"
      ],
      "metadata": {
        "colab": {
          "base_uri": "https://localhost:8080/"
        },
        "id": "4rBvJ4YbYTfE",
        "outputId": "e4e60d5c-a483-451d-c6c3-e535fda09159"
      },
      "execution_count": 63,
      "outputs": [
        {
          "output_type": "stream",
          "name": "stdout",
          "text": [
            "Programa de TABUADA do papai. \n",
            "Digite o número que você quer saber a tabuada: 5\n",
            "5 x 1 = 5\n",
            "5 x 2 = 10\n",
            "5 x 3 = 15\n",
            "5 x 4 = 20\n",
            "5 x 5 = 25\n",
            "5 x 6 = 30\n",
            "5 x 7 = 35\n",
            "5 x 8 = 40\n",
            "5 x 9 = 45\n",
            "5 x 10 = 50\n"
          ]
        }
      ]
    },
    {
      "cell_type": "code",
      "source": [
        "#Crie um programa que leia quanto dinheiro uma pessoa tem na carteira e mostre quntos dolares ela pode comprar\n",
        "# dolar = 5.16\n",
        "d = float(input('Quantos REAIS você quer converter para DÓLARES?? '))\n",
        "d1 = float(d / 5.16)\n",
        "print('{} Reais, equivalem a {} USD'.format(d,d1))"
      ],
      "metadata": {
        "colab": {
          "base_uri": "https://localhost:8080/"
        },
        "id": "iyDPqg0QaGf3",
        "outputId": "3befe199-904b-4451-9012-836294160187"
      },
      "execution_count": 68,
      "outputs": [
        {
          "output_type": "stream",
          "name": "stdout",
          "text": [
            "Quantos REAIS você quer converter para DÓLARES?? 300\n",
            "300.0 Reais, equivalem a 58.13953488372093 USD\n"
          ]
        }
      ]
    },
    {
      "cell_type": "code",
      "source": [
        ""
      ],
      "metadata": {
        "id": "JCHRGMdDbwK1"
      },
      "execution_count": null,
      "outputs": []
    }
  ]
}