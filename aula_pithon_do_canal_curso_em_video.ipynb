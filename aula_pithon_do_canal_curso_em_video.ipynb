{
  "nbformat": 4,
  "nbformat_minor": 0,
  "metadata": {
    "colab": {
      "name": "aula pithon do canal curso em video.ipynb",
      "provenance": [],
      "authorship_tag": "ABX9TyPzrFVRABoscn53tdwI14qh",
      "include_colab_link": true
    },
    "kernelspec": {
      "name": "python3",
      "display_name": "Python 3"
    },
    "language_info": {
      "name": "python"
    }
  },
  "cells": [
    {
      "cell_type": "markdown",
      "metadata": {
        "id": "view-in-github",
        "colab_type": "text"
      },
      "source": [
        "<a href=\"https://colab.research.google.com/github/JulioFMDB/cursopython/blob/main/aula_pithon_do_canal_curso_em_video.ipynb\" target=\"_parent\"><img src=\"https://colab.research.google.com/assets/colab-badge.svg\" alt=\"Open In Colab\"/></a>"
      ]
    },
    {
      "cell_type": "markdown",
      "source": [
        "https://www.youtube.com/watch?v=31llNGKWDdo&list=PLvE-ZAFRgX8hnECDn1v9HNTI71veL3oW0&index=5"
      ],
      "metadata": {
        "id": "a0JKKN0u1paa"
      }
    },
    {
      "cell_type": "code",
      "execution_count": 3,
      "metadata": {
        "colab": {
          "base_uri": "https://localhost:8080/"
        },
        "id": "PfkG_Hz6i9Qy",
        "outputId": "a19a7575-7575-4bd6-ed3d-8517786955b4"
      },
      "outputs": [
        {
          "output_type": "stream",
          "name": "stdout",
          "text": [
            "Digite seu nome Júlio\n",
            "Seja bem vindo caro Júlio\n"
          ]
        }
      ],
      "source": [
        "nome = input ('Digite seu nome ')\n",
        "print ('Seja bem vindo caro', nome)"
      ]
    },
    {
      "cell_type": "code",
      "source": [
        "# crie um script python que leia o dia, o mes e o ano de uma pessoa e mostre uma\n",
        "# mensagem com a data formatada\n",
        "\n",
        "print ('Olá, este programa irá formatar sua data de nascimento')\n",
        "dia = input ('Primeiramente, qual seu dia de nascimento ? ')\n",
        "mes = input ('Segundo, qual seu mês de nascimento ? ')\n",
        "ano = input ('E por fim, qual seu ano de nascimento ? ')\n",
        "\n",
        "print(f\"Legal, sua data de nascimento é: {dia} / {mes} / {ano}\")\n",
        "print(f\"Ou então, você nasceu em {dia} de {mes} de {ano}.\")\n"
      ],
      "metadata": {
        "colab": {
          "base_uri": "https://localhost:8080/"
        },
        "id": "tASYTQkR1s4L",
        "outputId": "db9cf117-ee6b-453d-851a-6d8afcb133f8"
      },
      "execution_count": 30,
      "outputs": [
        {
          "output_type": "stream",
          "name": "stdout",
          "text": [
            "Olá, este programa irá formatar sua data de nascimento\n",
            "Primeiramente, qual seu dia de nascimento ? 04\n",
            "Segundo, qual seu mês de nascimento ? Outubro\n",
            "E por fim, qual seu ano de nascimento ? 1984\n",
            "Legal, sua data de nascimento é: 04 / Outubro / 1984\n",
            "Ou então, você nasceu em 04 de Outubro de 1984.\n"
          ]
        }
      ]
    },
    {
      "cell_type": "code",
      "source": [
        "from typing import ByteString\n",
        "# Crie um script python que leia dois numeros e tente\n",
        "# mostrar a soma entre eles\n",
        "\n",
        "print ('Vamos somar dois numeros, siga os passos:')\n",
        "a = int( input ('Digite o primeiro numero ' ))\n",
        "b = int (input ('Digite o segundo numero ' ))\n",
        "\n",
        "soma = a+b\n",
        "print ('a sua soma resultou em: ',soma)"
      ],
      "metadata": {
        "colab": {
          "base_uri": "https://localhost:8080/"
        },
        "id": "z-6ROa6B4Ren",
        "outputId": "4be61faf-cd0e-4ec9-bc11-8a348d961e6d"
      },
      "execution_count": 24,
      "outputs": [
        {
          "output_type": "stream",
          "name": "stdout",
          "text": [
            "Vamos somar dois numeros, siga os passos:\n",
            "Digite o primeiro numero 5\n",
            "Digite o segundo numero 5\n",
            "a sua soma resultou em:  10\n"
          ]
        }
      ]
    }
  ]
}