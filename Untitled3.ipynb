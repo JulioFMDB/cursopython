{
  "nbformat": 4,
  "nbformat_minor": 0,
  "metadata": {
    "colab": {
      "name": "Untitled3.ipynb",
      "provenance": [],
      "collapsed_sections": [],
      "authorship_tag": "ABX9TyNjx9SrVpzcOKtunh/2LuzL",
      "include_colab_link": true
    },
    "kernelspec": {
      "name": "python3",
      "display_name": "Python 3"
    },
    "language_info": {
      "name": "python"
    }
  },
  "cells": [
    {
      "cell_type": "markdown",
      "metadata": {
        "id": "view-in-github",
        "colab_type": "text"
      },
      "source": [
        "<a href=\"https://colab.research.google.com/github/JulioFMDB/cursopython/blob/main/Untitled3.ipynb\" target=\"_parent\"><img src=\"https://colab.research.google.com/assets/colab-badge.svg\" alt=\"Open In Colab\"/></a>"
      ]
    },
    {
      "cell_type": "code",
      "execution_count": 56,
      "metadata": {
        "colab": {
          "base_uri": "https://localhost:8080/"
        },
        "id": "1YebCtWnvmt7",
        "outputId": "6cdd80f7-11b6-4d56-98f3-d4489341ff35"
      },
      "outputs": [
        {
          "output_type": "stream",
          "name": "stdout",
          "text": [
            "Digite sua altura em metros (Ex.: 1,70m)  1.90\n",
            "Digite seu peso em KG (Ex.: 85kg)  80\n",
            "Então seu IMC é de 22.16\n",
            "Saudável\n"
          ]
        }
      ],
      "source": [
        "# Python:\n",
        "# Fazer uma calculadora de imc, pedindo peso e altura do usuário e imprimindo seu imc.\n",
        "\n",
        "altura = float(input('Digite sua altura em metros (Ex.: 1,70m)  '))\n",
        "peso = float(input('Digite seu peso em KG (Ex.: 85kg)  '))\n",
        "imc = peso / altura**2\n",
        "\n",
        "print (f'Então seu IMC é de {imc:.2f}')\n",
        "if imc < 16:\n",
        "\tprint(\"Magreza grave\")\n",
        "elif imc < 17:\n",
        "\tprint(\"Magreza moderada\")\n",
        "elif imc < 18.5:\n",
        "\tprint(\"Magreza leve\")\n",
        "elif imc < 25:\n",
        "\tprint(\"Saudável\")\n",
        "elif imc < 30:\n",
        "\tprint(\"Sobrepeso\")\n",
        "elif imc < 35:\n",
        "\tprint(\"Obesidade Grau I\")\n",
        "elif imc < 40:\n",
        "\tprint(\"Obesidade Grau II (severa)\")\n",
        "else:\n",
        "\tprint(\"Obesidade Grau III (mórbida)\")"
      ]
    },
    {
      "cell_type": "code",
      "source": [
        "altura = float(input(\"Digite sua altura em metros: \"))\n",
        "peso = float(input(\"Digite seu peso em Kg: \"))\n",
        " \n",
        "imc = peso / altura**2\n",
        " \n",
        "print(\"Seu IMC é: %.4f\" % imc)\n",
        " \n",
        "if imc < 16:\n",
        "\tprint(\"Magreza grave\")\n",
        "elif imc < 17:\n",
        "\tprint(\"Magreza moderada\")\n",
        "elif imc < 18.5:\n",
        "\tprint(\"Magreza leve\")\n",
        "elif imc < 25:\n",
        "\tprint(\"Saudável\")\n",
        "elif imc < 30:\n",
        "\tprint(\"Sobrepeso\")\n",
        "elif imc < 35:\n",
        "\tprint(\"Obesidade Grau I\")\n",
        "elif imc < 40:\n",
        "\tprint(\"Obesidade Grau II (severa)\")\n",
        "else:\n",
        "\tprint(\"Obesidade Grau III (mórbida)\")\n",
        " \n"
      ],
      "metadata": {
        "colab": {
          "base_uri": "https://localhost:8080/",
          "height": 253
        },
        "id": "YFlNj-cQ4mEv",
        "outputId": "080e2263-2905-4633-b434-9af741225cd3"
      },
      "execution_count": 44,
      "outputs": [
        {
          "name": "stdout",
          "output_type": "stream",
          "text": [
            "Digite sua altura em metros: 1,80\n"
          ]
        },
        {
          "output_type": "error",
          "ename": "ValueError",
          "evalue": "ignored",
          "traceback": [
            "\u001b[0;31m---------------------------------------------------------------------------\u001b[0m",
            "\u001b[0;31mValueError\u001b[0m                                Traceback (most recent call last)",
            "\u001b[0;32m<ipython-input-44-117c1f289659>\u001b[0m in \u001b[0;36m<module>\u001b[0;34m()\u001b[0m\n\u001b[0;32m----> 1\u001b[0;31m \u001b[0maltura\u001b[0m \u001b[0;34m=\u001b[0m \u001b[0mfloat\u001b[0m\u001b[0;34m(\u001b[0m\u001b[0minput\u001b[0m\u001b[0;34m(\u001b[0m\u001b[0;34m\"Digite sua altura em metros: \"\u001b[0m\u001b[0;34m)\u001b[0m\u001b[0;34m)\u001b[0m\u001b[0;34m\u001b[0m\u001b[0;34m\u001b[0m\u001b[0m\n\u001b[0m\u001b[1;32m      2\u001b[0m \u001b[0mpeso\u001b[0m \u001b[0;34m=\u001b[0m \u001b[0mfloat\u001b[0m\u001b[0;34m(\u001b[0m\u001b[0minput\u001b[0m\u001b[0;34m(\u001b[0m\u001b[0;34m\"Digite seu peso em Kg: \"\u001b[0m\u001b[0;34m)\u001b[0m\u001b[0;34m)\u001b[0m\u001b[0;34m\u001b[0m\u001b[0;34m\u001b[0m\u001b[0m\n\u001b[1;32m      3\u001b[0m \u001b[0;34m\u001b[0m\u001b[0m\n\u001b[1;32m      4\u001b[0m \u001b[0mimc\u001b[0m \u001b[0;34m=\u001b[0m \u001b[0mpeso\u001b[0m \u001b[0;34m/\u001b[0m \u001b[0maltura\u001b[0m\u001b[0;34m**\u001b[0m\u001b[0;36m2\u001b[0m\u001b[0;34m\u001b[0m\u001b[0;34m\u001b[0m\u001b[0m\n\u001b[1;32m      5\u001b[0m \u001b[0;34m\u001b[0m\u001b[0m\n",
            "\u001b[0;31mValueError\u001b[0m: could not convert string to float: '1,80'"
          ]
        }
      ]
    }
  ]
}